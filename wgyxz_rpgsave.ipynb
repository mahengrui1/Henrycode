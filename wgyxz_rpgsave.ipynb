{
 "cells": [
  {
   "cell_type": "markdown",
   "metadata": {},
   "source": [
    "《王国英雄志》：提取4399存档概述\n",
    "20210820\n",
    "游戏用名：雷风立方"
   ]
  },
  {
   "cell_type": "markdown",
   "metadata": {},
   "source": [
    "Python读取和处理文件后缀为\".sqlite\"的数据文件 - lemonbit - 博客园\n",
    "https://www.cnblogs.com/lemonbit/p/7078038.html"
   ]
  },
  {
   "cell_type": "code",
   "execution_count": 18,
   "metadata": {},
   "outputs": [
    {
     "name": "stdout",
     "output_type": "stream",
     "text": [
      "Table test_table\n",
      "[('2017-6-25', 'bj', 100.0), ('2017-6-25', 'pydataroad', 150.0)]\n"
     ]
    }
   ],
   "source": [
    "import sqlite3 #包\n",
    "\n",
    "with sqlite3.connect('test_database.sqlite') as con:\n",
    "    c = con.cursor()\n",
    "    c.execute('''CREATE TABLE test_table\n",
    "    (date text, city text, value real)''')\n",
    "    for table in c.execute(\"SELECT name FROM sqlite_master WHERE type='table'\"):\n",
    "        print(\"Table\", table[0])\n",
    "    c.execute('''INSERT INTO test_table VALUES\n",
    "    ('2017-6-25', 'bj', 100)''')\n",
    "    c.execute('''INSERT INTO test_table VALUES\n",
    "    ('2017-6-25', 'pydataroad', 150)''')\n",
    "    c.execute(\"SELECT * FROM test_table\")\n",
    "    print(c.fetchall())"
   ]
  },
  {
   "cell_type": "code",
   "execution_count": 20,
   "metadata": {},
   "outputs": [
    {
     "name": "stdout",
     "output_type": "stream",
     "text": [
      "(2, 3)\n",
      "date      object\n",
      "city      object\n",
      "value    float64\n",
      "dtype: object\n",
      "        date        city  value\n",
      "0  2017-6-25          bj  100.0\n",
      "1  2017-6-25  pydataroad  150.0\n"
     ]
    }
   ],
   "source": [
    "#测试用，无效果\n",
    "import pandas as pd\n",
    "\n",
    "with sqlite3.connect('test_database.sqlite') as con:\n",
    "\n",
    "    # read_sql_query和read_sql都能通过SQL语句从数据库文件中获取数据信息\n",
    "    df = pd.read_sql_query(\"SELECT * FROM test_table\", con=con)\n",
    "    # df = pd.read_sql(\"SELECT * FROM test_table\", con=con)\n",
    "\n",
    "    print(df.shape)\n",
    "    print(df.dtypes)\n",
    "    print(df.head())"
   ]
  },
  {
   "cell_type": "code",
   "execution_count": 21,
   "metadata": {},
   "outputs": [
    {
     "data": {
      "text/html": [
       "<div>\n",
       "<style scoped>\n",
       "    .dataframe tbody tr th:only-of-type {\n",
       "        vertical-align: middle;\n",
       "    }\n",
       "\n",
       "    .dataframe tbody tr th {\n",
       "        vertical-align: top;\n",
       "    }\n",
       "\n",
       "    .dataframe thead th {\n",
       "        text-align: right;\n",
       "    }\n",
       "</style>\n",
       "<table border=\"1\" class=\"dataframe\">\n",
       "  <thead>\n",
       "    <tr style=\"text-align: right;\">\n",
       "      <th></th>\n",
       "      <th>date</th>\n",
       "      <th>city</th>\n",
       "      <th>value</th>\n",
       "    </tr>\n",
       "  </thead>\n",
       "  <tbody>\n",
       "    <tr>\n",
       "      <th>0</th>\n",
       "      <td>2017-6-25</td>\n",
       "      <td>bj</td>\n",
       "      <td>100.0</td>\n",
       "    </tr>\n",
       "    <tr>\n",
       "      <th>1</th>\n",
       "      <td>2017-6-25</td>\n",
       "      <td>pydataroad</td>\n",
       "      <td>150.0</td>\n",
       "    </tr>\n",
       "  </tbody>\n",
       "</table>\n",
       "</div>"
      ],
      "text/plain": [
       "        date        city  value\n",
       "0  2017-6-25          bj  100.0\n",
       "1  2017-6-25  pydataroad  150.0"
      ]
     },
     "execution_count": 21,
     "metadata": {},
     "output_type": "execute_result"
    }
   ],
   "source": [
    "df"
   ]
  },
  {
   "cell_type": "code",
   "execution_count": 28,
   "metadata": {},
   "outputs": [
    {
     "name": "stdout",
     "output_type": "stream",
     "text": [
      "(12507, 5)\n",
      "originAttributes    object\n",
      "originKey           object\n",
      "scope               object\n",
      "key                 object\n",
      "value               object\n",
      "dtype: object\n",
      "  originAttributes               originKey                   scope  \\\n",
      "0                   moc.negumxq.:https:443  moc.negumxq.:https:443   \n",
      "1                   moc.negumxq.:https:443  moc.negumxq.:https:443   \n",
      "2                   moc.negumxq.:https:443  moc.negumxq.:https:443   \n",
      "3                   moc.negumxq.:https:443  moc.negumxq.:https:443   \n",
      "4                   moc.negumxq.:https:443  moc.negumxq.:https:443   \n",
      "\n",
      "                       key value  \n",
      "0  google_experiment_mod44   621  \n",
      "1             goog_pem_mod    73  \n",
      "2  google_experiment_mod54   600  \n",
      "3  google_experiment_mod53   697  \n",
      "4  google_experiment_mod47   742  \n"
     ]
    }
   ],
   "source": [
    "import pandas as pd\n",
    "\n",
    "with sqlite3.connect('webappsstore.sqlite') as wgyx:\n",
    "\n",
    "    # read_sql_query和read_sql都能通过SQL语句从数据库文件中获取数据信息\n",
    "    df = pd.read_sql_query(\"SELECT * FROM webappsstore2\", con=wgyx)\n",
    "    # df = pd.read_sql(\"SELECT * FROM test_table\", con=con)\n",
    "\n",
    "    print(df.shape)\n",
    "    print(df.dtypes)\n",
    "    print(df.head())"
   ]
  },
  {
   "cell_type": "code",
   "execution_count": 29,
   "metadata": {},
   "outputs": [
    {
     "data": {
      "text/html": [
       "<div>\n",
       "<style scoped>\n",
       "    .dataframe tbody tr th:only-of-type {\n",
       "        vertical-align: middle;\n",
       "    }\n",
       "\n",
       "    .dataframe tbody tr th {\n",
       "        vertical-align: top;\n",
       "    }\n",
       "\n",
       "    .dataframe thead th {\n",
       "        text-align: right;\n",
       "    }\n",
       "</style>\n",
       "<table border=\"1\" class=\"dataframe\">\n",
       "  <thead>\n",
       "    <tr style=\"text-align: right;\">\n",
       "      <th></th>\n",
       "      <th>originAttributes</th>\n",
       "      <th>originKey</th>\n",
       "      <th>scope</th>\n",
       "      <th>key</th>\n",
       "      <th>value</th>\n",
       "    </tr>\n",
       "  </thead>\n",
       "  <tbody>\n",
       "    <tr>\n",
       "      <th>0</th>\n",
       "      <td></td>\n",
       "      <td>moc.negumxq.:https:443</td>\n",
       "      <td>moc.negumxq.:https:443</td>\n",
       "      <td>google_experiment_mod44</td>\n",
       "      <td>621</td>\n",
       "    </tr>\n",
       "    <tr>\n",
       "      <th>1</th>\n",
       "      <td></td>\n",
       "      <td>moc.negumxq.:https:443</td>\n",
       "      <td>moc.negumxq.:https:443</td>\n",
       "      <td>goog_pem_mod</td>\n",
       "      <td>73</td>\n",
       "    </tr>\n",
       "    <tr>\n",
       "      <th>2</th>\n",
       "      <td></td>\n",
       "      <td>moc.negumxq.:https:443</td>\n",
       "      <td>moc.negumxq.:https:443</td>\n",
       "      <td>google_experiment_mod54</td>\n",
       "      <td>600</td>\n",
       "    </tr>\n",
       "    <tr>\n",
       "      <th>3</th>\n",
       "      <td></td>\n",
       "      <td>moc.negumxq.:https:443</td>\n",
       "      <td>moc.negumxq.:https:443</td>\n",
       "      <td>google_experiment_mod53</td>\n",
       "      <td>697</td>\n",
       "    </tr>\n",
       "    <tr>\n",
       "      <th>4</th>\n",
       "      <td></td>\n",
       "      <td>moc.negumxq.:https:443</td>\n",
       "      <td>moc.negumxq.:https:443</td>\n",
       "      <td>google_experiment_mod47</td>\n",
       "      <td>742</td>\n",
       "    </tr>\n",
       "    <tr>\n",
       "      <th>...</th>\n",
       "      <td>...</td>\n",
       "      <td>...</td>\n",
       "      <td>...</td>\n",
       "      <td>...</td>\n",
       "      <td>...</td>\n",
       "    </tr>\n",
       "    <tr>\n",
       "      <th>12502</th>\n",
       "      <td></td>\n",
       "      <td>moc.atadesaber.www.:https:443</td>\n",
       "      <td>moc.atadesaber.www.:https:443</td>\n",
       "      <td>ZD-suid</td>\n",
       "      <td>{\"id\":\"17a5b27c4d1a9d2f7f9a35e9a6cc27fb\",\"expi...</td>\n",
       "    </tr>\n",
       "    <tr>\n",
       "      <th>12503</th>\n",
       "      <td></td>\n",
       "      <td>moc.elgoog.www.:https:443</td>\n",
       "      <td>moc.elgoog.www.:https:443</td>\n",
       "      <td>sb_wiz.zpc.</td>\n",
       "      <td>{\"0\":[[\"onlyfans news ban\",0,[362,143],{\"zf\":3...</td>\n",
       "    </tr>\n",
       "    <tr>\n",
       "      <th>12504</th>\n",
       "      <td></td>\n",
       "      <td>moc.elgoog.www.:https:443</td>\n",
       "      <td>moc.elgoog.www.:https:443</td>\n",
       "      <td>sb_wiz.pq_tm</td>\n",
       "      <td>1629437734127</td>\n",
       "    </tr>\n",
       "    <tr>\n",
       "      <th>12505</th>\n",
       "      <td></td>\n",
       "      <td>moc.elgoog.www.:https:443</td>\n",
       "      <td>moc.elgoog.www.:https:443</td>\n",
       "      <td>sb_wiz.pq</td>\n",
       "      <td>sqlite python 读取</td>\n",
       "    </tr>\n",
       "    <tr>\n",
       "      <th>12506</th>\n",
       "      <td></td>\n",
       "      <td>moc.elgoog.www.:https:443</td>\n",
       "      <td>moc.elgoog.www.:https:443</td>\n",
       "      <td>sb_wiz.qc</td>\n",
       "      <td>2452</td>\n",
       "    </tr>\n",
       "  </tbody>\n",
       "</table>\n",
       "<p>12507 rows × 5 columns</p>\n",
       "</div>"
      ],
      "text/plain": [
       "      originAttributes                      originKey  \\\n",
       "0                              moc.negumxq.:https:443   \n",
       "1                              moc.negumxq.:https:443   \n",
       "2                              moc.negumxq.:https:443   \n",
       "3                              moc.negumxq.:https:443   \n",
       "4                              moc.negumxq.:https:443   \n",
       "...                ...                            ...   \n",
       "12502                   moc.atadesaber.www.:https:443   \n",
       "12503                       moc.elgoog.www.:https:443   \n",
       "12504                       moc.elgoog.www.:https:443   \n",
       "12505                       moc.elgoog.www.:https:443   \n",
       "12506                       moc.elgoog.www.:https:443   \n",
       "\n",
       "                               scope                      key  \\\n",
       "0             moc.negumxq.:https:443  google_experiment_mod44   \n",
       "1             moc.negumxq.:https:443             goog_pem_mod   \n",
       "2             moc.negumxq.:https:443  google_experiment_mod54   \n",
       "3             moc.negumxq.:https:443  google_experiment_mod53   \n",
       "4             moc.negumxq.:https:443  google_experiment_mod47   \n",
       "...                              ...                      ...   \n",
       "12502  moc.atadesaber.www.:https:443                  ZD-suid   \n",
       "12503      moc.elgoog.www.:https:443              sb_wiz.zpc.   \n",
       "12504      moc.elgoog.www.:https:443             sb_wiz.pq_tm   \n",
       "12505      moc.elgoog.www.:https:443                sb_wiz.pq   \n",
       "12506      moc.elgoog.www.:https:443                sb_wiz.qc   \n",
       "\n",
       "                                                   value  \n",
       "0                                                    621  \n",
       "1                                                     73  \n",
       "2                                                    600  \n",
       "3                                                    697  \n",
       "4                                                    742  \n",
       "...                                                  ...  \n",
       "12502  {\"id\":\"17a5b27c4d1a9d2f7f9a35e9a6cc27fb\",\"expi...  \n",
       "12503  {\"0\":[[\"onlyfans news ban\",0,[362,143],{\"zf\":3...  \n",
       "12504                                      1629437734127  \n",
       "12505                                   sqlite python 读取  \n",
       "12506                                               2452  \n",
       "\n",
       "[12507 rows x 5 columns]"
      ]
     },
     "execution_count": 29,
     "metadata": {},
     "output_type": "execute_result"
    }
   ],
   "source": [
    "df"
   ]
  },
  {
   "cell_type": "code",
   "execution_count": 59,
   "metadata": {},
   "outputs": [
    {
     "name": "stdout",
     "output_type": "stream",
     "text": [
      "4337 RPG File20\n",
      "4385 RPG Config\n",
      "4386 RPG File18\n",
      "4387 RPG File19\n",
      "4400 RPG File7\n",
      "4401 RPG File8\n",
      "4402 RPG File9\n",
      "4403 RPG File10\n",
      "4404 RPG File11\n",
      "4405 RPG File12\n",
      "4406 RPG File13\n",
      "4407 RPG File14\n",
      "4408 RPG File15\n",
      "4409 RPG File16\n",
      "4410 RPG File17\n",
      "4411 RPG File1\n",
      "4412 RPG File2\n",
      "4413 RPG File3\n",
      "4414 RPG File4\n",
      "4415 RPG File5\n",
      "12382 RPG Global\n",
      "12383 RPG File6\n"
     ]
    }
   ],
   "source": [
    "j=-1\n",
    "j_=[]\n",
    "for i in df['key']:\n",
    "    j += 1\n",
    "    if i[0:3]=='RPG':\n",
    "        print(j,i)\n",
    "        j_.append(j)"
   ]
  },
  {
   "cell_type": "code",
   "execution_count": 60,
   "metadata": {},
   "outputs": [
    {
     "data": {
      "text/plain": [
       "[4337,\n",
       " 4385,\n",
       " 4386,\n",
       " 4387,\n",
       " 4400,\n",
       " 4401,\n",
       " 4402,\n",
       " 4403,\n",
       " 4404,\n",
       " 4405,\n",
       " 4406,\n",
       " 4407,\n",
       " 4408,\n",
       " 4409,\n",
       " 4410,\n",
       " 4411,\n",
       " 4412,\n",
       " 4413,\n",
       " 4414,\n",
       " 4415,\n",
       " 12382,\n",
       " 12383]"
      ]
     },
     "execution_count": 60,
     "metadata": {},
     "output_type": "execute_result"
    }
   ],
   "source": [
    "j_"
   ]
  },
  {
   "cell_type": "code",
   "execution_count": 65,
   "metadata": {},
   "outputs": [],
   "source": [
    "with open('wgyxALL.txt', 'wt') as f:\n",
    "    for jj in j_:\n",
    "        print(df['key'][jj],df['value'][jj], file=f)\n",
    "        print('\\n\\n\\n', file=f)\n",
    "        #input('')"
   ]
  },
  {
   "cell_type": "code",
   "execution_count": 72,
   "metadata": {},
   "outputs": [],
   "source": [
    "namme=range(4,21)"
   ]
  },
  {
   "cell_type": "code",
   "execution_count": 73,
   "metadata": {},
   "outputs": [],
   "source": [
    "for na in namme:\n",
    "    with open('file'+str(na)+'.rpgsave', 'wt') as fnamme:\n",
    "        print('\\n', file=fnamme)"
   ]
  },
  {
   "cell_type": "code",
   "execution_count": null,
   "metadata": {},
   "outputs": [],
   "source": []
  }
 ],
 "metadata": {
  "kernelspec": {
   "display_name": "Python 3",
   "language": "python",
   "name": "python3"
  },
  "language_info": {
   "codemirror_mode": {
    "name": "ipython",
    "version": 3
   },
   "file_extension": ".py",
   "mimetype": "text/x-python",
   "name": "python",
   "nbconvert_exporter": "python",
   "pygments_lexer": "ipython3",
   "version": "3.7.9"
  }
 },
 "nbformat": 4,
 "nbformat_minor": 4
}
